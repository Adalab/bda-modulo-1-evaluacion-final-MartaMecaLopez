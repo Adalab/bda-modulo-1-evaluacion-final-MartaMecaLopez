{
 "cells": [
  {
   "cell_type": "markdown",
   "metadata": {},
   "source": [
    "https://github.com/Adalab/bda-modulo-1-evaluacion-final-MartaMecaLopez"
   ]
  },
  {
   "cell_type": "markdown",
   "metadata": {},
   "source": [
    "## Evaluación Final Módulo 1"
   ]
  },
  {
   "cell_type": "markdown",
   "metadata": {},
   "source": [
    "### Estructuras principales"
   ]
  },
  {
   "cell_type": "code",
   "execution_count": 47,
   "metadata": {},
   "outputs": [],
   "source": [
    "inventario = [] #Lista de diccionarios\n",
    "#Output ejemplo: [{'nombre': 'Camisa', 'precio': 20, 'cantidad': 40}, {'nombre': 'Pantalón', 'precio': 30, 'cantidad': 30}]\n",
    "\n",
    "clientes = {} #Diccionario\n",
    "#Output ejemplo:  {'Cliente1': {'email': 'cliente1@email.com', 'compras': []}, 'Cliente2': {'email': 'cliente2@email.com', 'compras': []}}\n",
    "\n",
    "ventas_totales = float(0) #Variable numero flotante que lleva el registro de las ventas totales de la tienda. Inicia en 0."
   ]
  },
  {
   "cell_type": "markdown",
   "metadata": {},
   "source": [
    "1. Función agregar_producto(nombre, precio, cantidad): Esta función agrega un \n",
    "producto al inventario o actualiza su cantidad si ya existe. Debe recibir el \n",
    "nombre, precio y cantidad del producto como parámetros.  \n",
    "\n",
    " - Itera a través del inventario y compara los nombres de los productos con el nombre proporcionado. \n",
    " - Si el producto ya existe, actualiza la cantidad. \n",
    " - Si no existe, agrega un nuevo producto al inventario."
   ]
  },
  {
   "cell_type": "code",
   "execution_count": 48,
   "metadata": {},
   "outputs": [],
   "source": [
    "def agregar_producto(nombre, precio, cantidad):\n",
    "    for producto in inventario:#Entramos en la lista\n",
    "        if producto[\"Nombre\"] == nombre: #Buscamos la key nombre dentro de cada diccionario\n",
    "            producto[\"Cantidad\"] += cantidad #Buscamos la key cantidad dentro de cada diccionario y la sumamos con el nuevo stock\n",
    "            producto[\"Precio\"] = precio #Actualizamos el precio nuevo\n",
    "            print(f\"El producto {nombre} ya existe en en inventario por lo que se ha actualizado su stock y su precio. Ahora hay {producto['Cantidad']} y el precio nuevo es {precio}€\")\n",
    "            return(inventario)\n",
    "\n",
    "\n",
    "    nuevo_producto= {\"Nombre\": nombre, \"Precio\": precio, \"Cantidad\": cantidad}  \n",
    "    inventario.append(nuevo_producto) #No podemos usar \"else\" porque entonces crearía un producto nuevo cada vez que el nuevo nombre no coincida con el nombre de cada arículo de la lista\n",
    "\n",
    "    return inventario       \n",
    "\n"
   ]
  },
  {
   "cell_type": "code",
   "execution_count": 54,
   "metadata": {},
   "outputs": [
    {
     "data": {
      "text/plain": [
       "[{'Nombre': 'Pizza', 'Precio': 20.0, 'Cantidad': 200},\n",
       " {'Nombre': 'Pasta', 'Precio': 2.0, 'Cantidad': 300},\n",
       " {'Nombre': 'Bocadillo', 'Precio': 3.0, 'Cantidad': 200},\n",
       " {'Nombre': 'Palillos', 'Precio': 1.0, 'Cantidad': 400},\n",
       " {'Nombre': 'Pinchitos', 'Precio': 3.0, 'Cantidad': 200},\n",
       " {'Nombre': 'Hamburguesa', 'Precio': 18.0, 'Cantidad': 200}]"
      ]
     },
     "execution_count": 54,
     "metadata": {},
     "output_type": "execute_result"
    }
   ],
   "source": [
    "nombre_nuevo = input(\"Añade el nombre del producto\")\n",
    "precio_nuevo = float(input(\"Ingresa el precio del producto\"))\n",
    "cantidad_nueva = int(input(\"Ingres la cantidad del artículo\"))\n",
    "\n",
    "agregar_producto(nombre_nuevo, precio_nuevo, cantidad_nueva) #Llamar a la función"
   ]
  },
  {
   "cell_type": "markdown",
   "metadata": {},
   "source": [
    "2. ver_inventario(): Muestra el inventario de productos con sus detalles. \n",
    "\n",
    " - Utiliza un bucle `for` para recorrer el inventario. \n",
    " - Imprime los detalles (nombre, precio, cantidad) de cada producto. \n",
    " - Ejeplo output: ```python \n",
    "         Nombre: Camisa, Precio: $20, Cantidad: 50 \n",
    "         Nombre: Pantalón, Precio: $30, Cantidad: 30 \n",
    "         Nombre: Zapatos, Precio: $50, Cantidad: 40 \n",
    "         Nombre: Camisa, Precio: $20, Cantidad: 50 \n",
    "         ```"
   ]
  },
  {
   "cell_type": "code",
   "execution_count": 55,
   "metadata": {},
   "outputs": [
    {
     "name": "stdout",
     "output_type": "stream",
     "text": [
      "Nombre: Pizza, Precio: 20.0€, Cantidad: 200\n",
      "Nombre: Pasta, Precio: 2.0€, Cantidad: 300\n",
      "Nombre: Bocadillo, Precio: 3.0€, Cantidad: 200\n",
      "Nombre: Palillos, Precio: 1.0€, Cantidad: 400\n",
      "Nombre: Pinchitos, Precio: 3.0€, Cantidad: 200\n",
      "Nombre: Hamburguesa, Precio: 18.0€, Cantidad: 200\n"
     ]
    }
   ],
   "source": [
    "def ver_inventario():\n",
    "    for producto in inventario:\n",
    "        print(f\"Nombre: {producto[\"Nombre\"]}, Precio: {producto[\"Precio\"]}€, Cantidad: {producto[\"Cantidad\"]}\")\n",
    "\n",
    "\n",
    "ver_inventario()\n"
   ]
  },
  {
   "cell_type": "markdown",
   "metadata": {},
   "source": [
    "3. buscar_producto(nombre): Busca un producto en el inventario por nombre y muestra sus detalles si se encuentra. Debe recibir el nombre del producto como parámetro. \n",
    " - Utiliza un bucle `for` para recorrer el inventario. \n",
    " - Compara los nombres de los productos con el nombre proporcionado. \n",
    " - Si se encuentra el producto, imprime sus detalles. \n",
    " - Debe mostrar: Nombre: Camisa, Precio: $20, Cantidad: 40 "
   ]
  },
  {
   "cell_type": "markdown",
   "metadata": {},
   "source": [
    "### Mejorar: Mensaje de error si el producto no está"
   ]
  },
  {
   "cell_type": "code",
   "execution_count": 58,
   "metadata": {},
   "outputs": [
    {
     "name": "stdout",
     "output_type": "stream",
     "text": [
      "Producto encontrado:\n",
      "                  Nombre: Pasta\n",
      "                  Precio: 2.0€\n",
      "                  Cantidad: 300\n"
     ]
    }
   ],
   "source": [
    "def buscar_producto(nombre):\n",
    "    for producto in inventario:\n",
    "        if producto[\"Nombre\"].lower() == nombre.lower():\n",
    "            print(f\"\"\"Producto encontrado:\n",
    "                  Nombre: {producto[\"Nombre\"]}\n",
    "                  Precio: {producto[\"Precio\"]}€\n",
    "                  Cantidad: {producto[\"Cantidad\"]}\"\"\")          \n",
    "\n",
    "buscar_producto(input(\"¿Qué producto quieres buscar en la base de datos?\")) \n",
    "\n"
   ]
  },
  {
   "cell_type": "markdown",
   "metadata": {},
   "source": [
    "4. `actualizar_stock(nombre, cantidad)`: Actualiza el stock de un producto en el inventario. Debe recibir el nombre del producto y la cantidad a agregar o quitar como parámetros. \n",
    " - Utiliza un bucle `for` para recorrer el inventario. \n",
    " - Busca el producto por nombre \n",
    " - Actualiza la cantidad según la entrada del usuario. \n",
    " - Si el producto no esta en el inventario muestra un mensaje indicándolo."
   ]
  },
  {
   "cell_type": "markdown",
   "metadata": {},
   "source": [
    "### Mejorar: hacer que se pueda restar solo si la cantidad es mayor que lo que le queremos restar"
   ]
  },
  {
   "cell_type": "code",
   "execution_count": 60,
   "metadata": {},
   "outputs": [
    {
     "name": "stdout",
     "output_type": "stream",
     "text": [
      "El stock de hamburguesa se ha ajustado. La cantidad actualizada es 200\n",
      "El inventario actualizado es: [{'Nombre': 'Pizza', 'Precio': 20.0, 'Cantidad': 200}, {'Nombre': 'Pasta', 'Precio': 2.0, 'Cantidad': 300}, {'Nombre': 'Bocadillo', 'Precio': 3.0, 'Cantidad': 200}, {'Nombre': 'Palillos', 'Precio': 1.0, 'Cantidad': 400}, {'Nombre': 'Pinchitos', 'Precio': 3.0, 'Cantidad': 200}, {'Nombre': 'Hamburguesa', 'Precio': 18.0, 'Cantidad': 200}]\n"
     ]
    }
   ],
   "source": [
    "def actualizar_stock(nombre, cantidad):\n",
    "    for producto in inventario:\n",
    "        if producto[\"Nombre\"].lower() == nombre.lower():\n",
    "            if accion.lower() == \"resta\":\n",
    "                producto[\"Cantidad\"] -= cantidad\n",
    "                print(f\"El stock de {nombre} se ha ajustado. La cantidad actualizada es {producto[\"Cantidad\"]}\")\n",
    "                print(f\"El inventario actualizado es: {inventario}\")\n",
    "            elif accion.lower() == \"suma\":\n",
    "                producto[\"Cantidad\"] += cantidad\n",
    "                print(f\"Gracias, se ha sumado al stock actual. La cantidad actualizada de {nombre} es {producto[\"Cantidad\"]}\")\n",
    "                print(f\"El inventario actualizado es: {inventario}\")\n",
    "                continue\n",
    "            elif accion.lower() != \"suma\" or \"resta\":\n",
    "                print(f\"Vaya, parece que ha habido un error, prompruebe el inventario antes de intentarlo otra vez: {inventario}\")\n",
    "\n",
    "              \n",
    "\n",
    "\n",
    "accion = input(\"¿Qué acción quiere ejecutar? Indique: Suma o Resta\")\n",
    "nombre_articulo_actualizar = input(\"¿Qué artículo quiere actualizar?\")\n",
    "cantidad_actualizada = int(input(\"¿En qué cantidad?\"))\n",
    "actualizar_stock(nombre_articulo_actualizar, cantidad_actualizada)\n",
    "\n"
   ]
  },
  {
   "cell_type": "markdown",
   "metadata": {},
   "source": [
    "5. `eliminar_producto(nombre)`: Elimina un producto del inventario por nombre. Debe recibir el nombre del producto como parámetro. \n",
    " - Utiliza un bucle `for` para recorrer el inventario. \n",
    " - Busca el producto por nombre. \n",
    " - Elimina el producto del inventario si existe. \n",
    " - Si el producto no esta en el inventario muestra un mensaje indicándolo."
   ]
  },
  {
   "cell_type": "code",
   "execution_count": null,
   "metadata": {},
   "outputs": [],
   "source": [
    "def eliminar_producto(nombre):\n",
    "    for producto in inventario:\n",
    "        if producto[\"Nombre\"].lower() == nombre.lower():\n",
    "            inventario.remove(producto)\n",
    "            print(f\"El producto {nombre} se ha eliminado\")\n",
    "            return print(f\"El inventario actualizado es: {inventario}\")\n",
    "    producto[\"Nombre\"].lower() != nombre.lower()\n",
    "    print(f\"El producto {nombre} no se encuentra en el inventario\")\n"
   ]
  },
  {
   "cell_type": "code",
   "execution_count": 68,
   "metadata": {},
   "outputs": [
    {
     "name": "stdout",
     "output_type": "stream",
     "text": [
      "El inventario original era: [{'Nombre': 'Pizza', 'Precio': 20.0, 'Cantidad': 200}, {'Nombre': 'Pasta', 'Precio': 2.0, 'Cantidad': 300}, {'Nombre': 'Bocadillo', 'Precio': 3.0, 'Cantidad': 200}, {'Nombre': 'Pinchitos', 'Precio': 3.0, 'Cantidad': 200}, {'Nombre': 'Hamburguesa', 'Precio': 18.0, 'Cantidad': 200}]\n",
      "El producto hamburguesa se ha eliminado\n",
      "El inventario actualizado es: [{'Nombre': 'Pizza', 'Precio': 20.0, 'Cantidad': 200}, {'Nombre': 'Pasta', 'Precio': 2.0, 'Cantidad': 300}, {'Nombre': 'Bocadillo', 'Precio': 3.0, 'Cantidad': 200}, {'Nombre': 'Pinchitos', 'Precio': 3.0, 'Cantidad': 200}]\n"
     ]
    }
   ],
   "source": [
    "print(f\"El inventario original era: {inventario}\") #Imprimimos la lista para recordar los elemenis que había\n",
    "articulo_eliminar = input(\"¿Qué producto quieres eliminar?\")\n",
    "eliminar_producto(articulo_eliminar) "
   ]
  },
  {
   "cell_type": "markdown",
   "metadata": {},
   "source": [
    "6. `calcular_valor_inventario()`: Calcula y muestra el valor total del inventario. \n",
    " \n",
    " - Utiliza un bucle `for` para calcular el valor total del inventario. \n",
    " - Itera a través del inventario y suma el valor de cada producto (precio x cantidad). Es decir, calcula el valor total del inventario. "
   ]
  },
  {
   "cell_type": "code",
   "execution_count": 69,
   "metadata": {},
   "outputs": [
    {
     "name": "stdout",
     "output_type": "stream",
     "text": [
      "[{'Nombre': 'Pizza', 'Precio': 20.0, 'Cantidad': 200}, {'Nombre': 'Pasta', 'Precio': 2.0, 'Cantidad': 300}, {'Nombre': 'Bocadillo', 'Precio': 3.0, 'Cantidad': 200}, {'Nombre': 'Pinchitos', 'Precio': 3.0, 'Cantidad': 200}]\n"
     ]
    }
   ],
   "source": [
    "print(inventario)"
   ]
  },
  {
   "cell_type": "code",
   "execution_count": 70,
   "metadata": {},
   "outputs": [
    {
     "name": "stdout",
     "output_type": "stream",
     "text": [
      "El valor total de nuestro inventario es de: 5800.0€\n"
     ]
    }
   ],
   "source": [
    "def calcular_valor_inventario():\n",
    "    total_ganancias = 0\n",
    "    for producto in inventario:\n",
    "        valor_por_producto = producto[\"Cantidad\"] * producto[\"Precio\"] #Calculamos el precio de cada producto por la cantidad que hay en stock\n",
    "        total_ganancias += valor_por_producto #sumamos cada valor del cálculo anterior a nuestra variable de ganancias totales\n",
    "    return total_ganancias    \n",
    "\n",
    "valor_inventario = calcular_valor_inventario()  #Llamada función\n",
    "print(f\"El valor total de nuestro inventario es de: {valor_inventario}€\")      "
   ]
  },
  {
   "cell_type": "markdown",
   "metadata": {},
   "source": [
    "7. `realizar_compra()`: Permite a un cliente realizar una compra seleccionando productos del inventario. Debe interactuar con el cliente para seleccionar productos y calcular el costo total de la compra. \n",
    " - Utiliza un bucle `while` para permitir al cliente realizar múltiples compras. ✅\n",
    " - Muestra el inventario y solicita al cliente ingresar el nombre del producto que desea comprar. ✅\n",
    " - Registra los productos seleccionados en un carrito y actualiza el inventario. ✅\n",
    " - Calcula el costo total de la compra."
   ]
  },
  {
   "cell_type": "code",
   "execution_count": 86,
   "metadata": {},
   "outputs": [
    {
     "name": "stdout",
     "output_type": "stream",
     "text": [
      "Nombre: Pizza, Precio: 20.0€, Cantidad: 185\n",
      "Nombre: Pasta, Precio: 2.0€, Cantidad: 285\n",
      "Nombre: Bocadillo, Precio: 3.0€, Cantidad: 200\n",
      "Nombre: Pinchitos, Precio: 3.0€, Cantidad: 198\n"
     ]
    }
   ],
   "source": [
    "def ver_inventario():#Le mostramos al cliente nuestro inventario\n",
    "    for producto in inventario:\n",
    "        print(f\"Nombre: {producto[\"Nombre\"]}, Precio: {producto[\"Precio\"]}€, Cantidad: {producto[\"Cantidad\"]}\")\n",
    "\n",
    "\n",
    "ver_inventario()"
   ]
  },
  {
   "cell_type": "code",
   "execution_count": null,
   "metadata": {},
   "outputs": [
    {
     "name": "stdout",
     "output_type": "stream",
     "text": [
      "Se han añadidido 1 Pasta a tu lista de a compra\n",
      "Se han añadidido 2 Pizza a tu lista de a compra\n",
      "Este es el estado de tu carrito: [{'Artículo': 'pasta', 'Cantidad': 1, 'Precio': 2.0}, {'Artículo': 'pizza', 'Cantidad': 2, 'Precio': 20.0}]\n",
      "El inventario se ha actualizado: [{'Nombre': 'Pizza', 'Precio': 20.0, 'Cantidad': 161}, {'Nombre': 'Pasta', 'Precio': 2.0, 'Cantidad': 268}, {'Nombre': 'Bocadillo', 'Precio': 3.0, 'Cantidad': 200}, {'Nombre': 'Pinchitos', 'Precio': 3.0, 'Cantidad': 198}]\n",
      "El coste total de nuestro carrito es: 42.0€\n"
     ]
    }
   ],
   "source": [
    "carrito_compra = []\n",
    "\n",
    "def realizar_compra():\n",
    "    respuesta = input(\"¿Quieres añadir algo a tu carrito?(Yes/No)\") \n",
    "    while respuesta.lower() == \"yes\":\n",
    "        comprar_articulo = input(\"¿Qué artículo quieres añadir a tu carrito?\")\n",
    "        cantidad_artículo = int(input(\"¿Qué cantidad quieres comprar?\"))\n",
    "        for producto in inventario:\n",
    "            if producto[\"Nombre\"].lower() == comprar_articulo.lower():\n",
    "                if producto[\"Cantidad\"] >= cantidad_artículo:\n",
    "                    carrito_compra.append({\"Artículo\": comprar_articulo.lower(), \"Cantidad\": cantidad_artículo, \"Precio\": producto[\"Precio\"]})\n",
    "                    producto[\"Cantidad\"] -= cantidad_artículo\n",
    "                    print(f\"Se han añadidido {cantidad_artículo} {comprar_articulo.capitalize()} a tu lista de a compra\")\n",
    "                else:\n",
    "                    print(\"La cantidad seleccionada es mayor al stock disponible\") \n",
    "                break #Si no ponemos el break, aunque el producto esté en el inventario seguirá accionando la siguiente línea de código    \n",
    "        else:\n",
    "            print(f\"El artículo {comprar_articulo} no está en el inventario\")    \n",
    "            break               \n",
    "        respuesta = input(\"¿Quieres añadir algo a tu carrito?\")\n",
    "    print(f\"El inventario se ha actualizado: {inventario}\")\n",
    "    print(f\"Este es el estado de tu carrito: {carrito_compra}\")\n",
    "    \n",
    "    coste_total_carrito = 0\n",
    "    for item in carrito_compra:\n",
    "        coste_total_producto = item[\"Cantidad\"] * item[\"Precio\"] #Calculamos el precio de cada producto por la cantidad que hemos comprado\n",
    "        coste_total_carrito += coste_total_producto #sumamos cada valor del cálculo anterior a nuestra variable de ganancias totales\n",
    "    print(f\"El coste total de nuestro carrito es: {coste_total_carrito}€\")\n",
    "                   \n",
    "realizar_compra()              \n",
    "    "
   ]
  },
  {
   "cell_type": "markdown",
   "metadata": {},
   "source": [
    "## Ejercicios Opcionales"
   ]
  },
  {
   "cell_type": "markdown",
   "metadata": {},
   "source": [
    "8. `procesar_pago()`: Procesa el pago de una compra, calcula el cambio y \n",
    "muestra un mensaje de confirmación. \n",
    " - Utiliza un bloque `try...except` para manejar excepciones. \n",
    " - Solicita al cliente ingresar la cantidad total y la cantidad de pago usando un input. \n",
    " - Calcula el cambio y muestra un mensaje de pago exitoso o un error en caso de monto insuficiente."
   ]
  },
  {
   "cell_type": "markdown",
   "metadata": {},
   "source": [
    "9. `agregar_cliente(nombre, email)`: Agrega un nuevo cliente al registro de clientes. Debe recibir el nombre y el correo electrónico del cliente como parámetros. \n",
    "- Agrega un cliente al diccionario de clientes con su nombre y correo electrónico."
   ]
  },
  {
   "cell_type": "markdown",
   "metadata": {},
   "source": [
    "10. `ver_clientes()`: Muestra la lista de clientes registrados con sus nombres y correos electrónicos. \n",
    " - Utiliza un bucle `for` para recorrer la base de datos de clientes. \n",
    " - Imprime los detalles de cada cliente (nombre y correo electrónico)."
   ]
  }
 ],
 "metadata": {
  "kernelspec": {
   "display_name": "Python 3",
   "language": "python",
   "name": "python3"
  },
  "language_info": {
   "codemirror_mode": {
    "name": "ipython",
    "version": 3
   },
   "file_extension": ".py",
   "mimetype": "text/x-python",
   "name": "python",
   "nbconvert_exporter": "python",
   "pygments_lexer": "ipython3",
   "version": "3.13.1"
  }
 },
 "nbformat": 4,
 "nbformat_minor": 2
}
